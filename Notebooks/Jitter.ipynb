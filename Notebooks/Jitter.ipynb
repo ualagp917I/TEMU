{
  "cells": [
    {
      "cell_type": "markdown",
      "metadata": {},
      "source": [
        "# Hidding the Jitter\n"
      ]
    },
    {
      "cell_type": "markdown",
      "metadata": {},
      "source": [
        "## 1. Introducción\n",
        "En esta práctica se busca analizar cómo el uso de un buffer en una comunicación bidireccional puede ayudar a evitar los efectos del jitter en una red local. El objetivo es determinar experimentalmente el tiempo mínimo de buffering necesario para mantener una transmisión continua de audio sin pérdidas ni interrupciones.\n",
        "Para ello, se emplea el proyecto InterCom, que permite enviar y recibir audio en tiempo real. Ajustando el parámetro de buffering, se puede compensar la diferencia de latencia entre ambos equipos y mejorar la calidad del sonido con la menor demora posible."
      ]
    },
    {
      "cell_type": "markdown",
      "metadata": {},
      "source": [
        "## 2. Procedimiento experimental\n",
        "Antes de comenzar con las pruebas, se accede a la carpeta src, que contiene los archivos principales del proyecto InterCom. Desde esta ubicación se ejecutarán los comandos necesarios para medir la latencia de red y ajustar el tiempo de buffering durante la comunicación."
      ]
    },
    {
      "cell_type": "code",
      "execution_count": 1,
      "metadata": {
        "colab": {
          "base_uri": "https://localhost:8080/"
        },
        "collapsed": true,
        "id": "TEg6SqrNi52S",
        "outputId": "81bbefbf-22a8-4ab1-c02b-75c000d9182e"
      },
      "outputs": [],
      "source": [
        "import os\n",
        "\n",
        "os.chdir(\"../src\")"
      ]
    },
    {
      "cell_type": "markdown",
      "metadata": {},
      "source": [
        "## 3. Medición de latencia de red\n",
        "Para conocer el retardo existente entre los dos equipos de red, se utilizó el comando ping hacia la dirección IP del compañero de grupo. Con esta prueba se obtiene una estimación del tiempo que tardan los paquetes en ir y volver, lo que sirve como referencia para ajustar el valor del buffering. Importante: Adaptar IP a cada uno de los compañeros."
      ]
    },
    {
      "cell_type": "code",
      "execution_count": 2,
      "metadata": {
        "vscode": {
          "languageId": "powershell"
        }
      },
      "outputs": [
        {
          "name": "stdout",
          "output_type": "stream",
          "text": [
            "\n",
            "Pinging 10.0.0.125 with 32 bytes of data:\n",
            "Reply from 10.0.0.125: bytes=32 time=21ms TTL=128\n",
            "Reply from 10.0.0.125: bytes=32 time=13ms TTL=128\n",
            "Reply from 10.0.0.125: bytes=32 time=5ms TTL=128\n",
            "Reply from 10.0.0.125: bytes=32 time=11ms TTL=128\n",
            "\n",
            "Ping statistics for 10.0.0.125:\n",
            "    Packets: Sent = 4, Received = 4, Lost = 0 (0% loss),\n",
            "Approximate round trip times in milli-seconds:\n",
            "    Minimum = 5ms, Maximum = 21ms, Average = 12ms\n"
          ]
        }
      ],
      "source": [
        "ip=\"10.0.0.125\"\n",
        "!ping $ip"
      ]
    },
    {
      "cell_type": "markdown",
      "metadata": {},
      "source": [
        "En los resultados se observan tiempos variables, con un mínimo de 5ms, un máximo de 21ms y una media de 12ms. Esta diferencia entre valores muestra que la red presenta cierta inestabilidad, conocida como jitter, que puede provocar cortes en el audio si el búfer no es lo suficientemente grande para compensarlo."
      ]
    },
    {
      "cell_type": "markdown",
      "metadata": {},
      "source": [
        "## 4. Pruebas con diferentes tiempos de buffering\n",
        "Una vez conocida la latencia aproximada de la red, se realizaron varias pruebas ejecutando InterCom con distintos valores de buffering. Para ello, se utilizó el archivo buffer.py, que permite establecer un tiempo de espera (en milisegundos) antes de reproducir los fragmentos de audio recibidos.\n",
        "\n",
        "Ejecución en ambos ordenadores:  \n",
        "El programa se lanza en los dos equipos para establecer la comunicación bidireccional."
      ]
    },
    {
      "cell_type": "code",
      "execution_count": null,
      "metadata": {
        "vscode": {
          "languageId": "powershell"
        }
      },
      "outputs": [],
      "source": [
        "!python buffer.py -a $ip"
      ]
    },
    {
      "cell_type": "markdown",
      "metadata": {
        "id": "Mj3N8oZskq7i"
      },
      "source": [
        "El objetivo es encontrar el valor mínimo que evitara cortes o pérdidas de sonido durante la comunicación. Se comenzaron las pruebas con un valor de 100 ms, reduciéndolo progresivamente hasta detectar interrupciones en el audio:"
      ]
    },
    {
      "cell_type": "code",
      "execution_count": null,
      "metadata": {
        "id": "v-Kwxevakuwf",
        "vscode": {
          "languageId": "powershell"
        }
      },
      "outputs": [],
      "source": [
        "python buffer.py -a $ip -b 100"
      ]
    },
    {
      "cell_type": "code",
      "execution_count": null,
      "metadata": {
        "id": "14mNBcM-k_4C",
        "vscode": {
          "languageId": "powershell"
        }
      },
      "outputs": [],
      "source": [
        "python buffer.py -a $ip -b 50"
      ]
    },
    {
      "cell_type": "code",
      "execution_count": null,
      "metadata": {
        "id": "szs-7j5OymeP",
        "vscode": {
          "languageId": "powershell"
        }
      },
      "outputs": [],
      "source": [
        "python buffer.py -a $ip -b 25"
      ]
    },
    {
      "cell_type": "code",
      "execution_count": null,
      "metadata": {
        "id": "aaObjoStyqKg",
        "vscode": {
          "languageId": "powershell"
        }
      },
      "outputs": [],
      "source": [
        "python buffer.py -a $ip -b 40"
      ]
    },
    {
      "cell_type": "code",
      "execution_count": null,
      "metadata": {
        "id": "sMGWm9G9ywEO",
        "vscode": {
          "languageId": "powershell"
        }
      },
      "outputs": [],
      "source": [
        "python buffer.py -a $ip -b 50"
      ]
    },
    {
      "cell_type": "markdown",
      "metadata": {
        "id": "P1c0ioRyzBpT"
      },
      "source": [
        "Durante las pruebas se comprobó que, con valores inferiores a 40 ms, aparecían pequeños cortes en la transmisión. Sin embargo, con un buffering de 50 ms, la comunicación fue estable y no se apreciaron pérdidas de fragmentos.\n",
        "\n",
        "Durante el ping se comprobó que el retraso era de 12ms de media, sin embargo, se ha necesitado un valor mucho más alto para compensar el jitter. Esto se debe a que el procesamiento del audio también añade un retraso que se debe compensar, aumentando el tiempo de búfer necesario para evitar cortes en el audio."
      ]
    },
    {
      "cell_type": "markdown",
      "metadata": {},
      "source": [
        "## 5. Conclusión\n",
        "Tras las pruebas realizadas con InterCom en ambos equipos, el tiempo mínimo de buffering que garantiza una comunicación de audio continua y sin cortes es de 50ms. Con ello se alcanza una adecuada relación entre calidad y latencia, amortiguando el jitter observado por ping sin provocar un retraso perceptible.\n",
        "\n",
        "Este experimento, de ser realizado con los equipos en redes distinas, aumentaría considerablemente tanto el jitter como el retraso y el tiempo de búfer necesario, debido tanto a distancia como a variaciones en las rutas. Sin embargo, no se ha podido comprobar, ya que la proveedora de nuestro internet bloquea el tráfico necesario para realizar el experimento, a pesar de configurar el redireccionamiento y el firewall necesario en los routers."
      ]
    }
  ],
  "metadata": {
    "colab": {
      "provenance": []
    },
    "kernelspec": {
      "display_name": "intercom",
      "language": "python",
      "name": "python3"
    },
    "language_info": {
      "codemirror_mode": {
        "name": "ipython",
        "version": 3
      },
      "file_extension": ".py",
      "mimetype": "text/x-python",
      "name": "python",
      "nbconvert_exporter": "python",
      "pygments_lexer": "ipython3",
      "version": "3.13.7"
    }
  },
  "nbformat": 4,
  "nbformat_minor": 0
}
