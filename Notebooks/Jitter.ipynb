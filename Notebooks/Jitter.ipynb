{
  "cells": [
    {
      "cell_type": "markdown",
      "metadata": {},
      "source": [
        "Nos vamos a la carpeta src"
      ]
    },
    {
      "cell_type": "code",
      "execution_count": 1,
      "metadata": {
        "colab": {
          "base_uri": "https://localhost:8080/"
        },
        "collapsed": true,
        "id": "TEg6SqrNi52S",
        "outputId": "81bbefbf-22a8-4ab1-c02b-75c000d9182e"
      },
      "outputs": [],
      "source": [
        "import os\n",
        "\n",
        "os.chdir(\"../src\")"
      ]
    },
    {
      "cell_type": "markdown",
      "metadata": {},
      "source": [
        "Hacemos un ping a la ip deseada"
      ]
    },
    {
      "cell_type": "code",
      "execution_count": 5,
      "metadata": {
        "vscode": {
          "languageId": "powershell"
        }
      },
      "outputs": [
        {
          "name": "stdout",
          "output_type": "stream",
          "text": [
            "\n",
            "Pinging 10.0.0.68 with 32 bytes of data:\n",
            "Reply from 10.0.0.68: bytes=32 time=655ms TTL=64\n",
            "Reply from 10.0.0.68: bytes=32 time=43ms TTL=64\n",
            "Reply from 10.0.0.68: bytes=32 time=257ms TTL=64\n",
            "Reply from 10.0.0.68: bytes=32 time=66ms TTL=64\n",
            "\n",
            "Ping statistics for 10.0.0.68:\n",
            "    Packets: Sent = 4, Received = 4, Lost = 0 (0% loss),\n",
            "Approximate round trip times in milli-seconds:\n",
            "    Minimum = 43ms, Maximum = 655ms, Average = 255ms\n"
          ]
        }
      ],
      "source": [
        "ip=\"10.0.0.68\"\n",
        "!ping $ip"
      ]
    },
    {
      "cell_type": "markdown",
      "metadata": {
        "id": "LhF8A0iDw56x"
      },
      "source": [
        "Explicación resultados ping:\n",
        "Como vemos en el average nos sale una latencia de 12ms completamente distinta a la medida de latencia que nosotros hemos detectado, ya que el ping solo tiene encuenta la transmisión de paquetes de un punto a otro. En cambio, en nuestro código la latencia debe tener el cuenta la reproducción y captación de audio y la transmisicón de paquetes. Por tanto, como minimo la latencia es 12, es decir, la de la transmisión de paquetes y la máxima o favorable sería 49 para transmisión de audio."
      ]
    },
    {
      "cell_type": "markdown",
      "metadata": {
        "id": "q2z8Xzc2kE8w"
      },
      "source": [
        "En ambos ordenadores:"
      ]
    },
    {
      "cell_type": "code",
      "execution_count": 4,
      "metadata": {
        "id": "jRllugtOkRP-",
        "vscode": {
          "languageId": "powershell"
        }
      },
      "outputs": [
        {
          "name": "stdout",
          "output_type": "stream",
          "text": [
            "pygame 2.6.1 (SDL 2.28.4, Python 3.13.7)\n",
            "Hello from the pygame community. https://www.pygame.org/contribute.html\n"
          ]
        },
        {
          "name": "stderr",
          "output_type": "stream",
          "text": [
            "c:\\Users\\anton\\Documents\\Proyectos\\InterCom-master\\intercom\\Lib\\site-packages\\pygame\\pkgdata.py:25: UserWarning: pkg_resources is deprecated as an API. See https://setuptools.pypa.io/en/latest/pkg_resources.html. The pkg_resources package is slated for removal as early as 2025-11-30. Refrain from using this package or pin to Setuptools<81.\n",
            "  from pkg_resources import resource_stream, resource_exists\n",
            "(INFO) minimal: A minimal InterCom (no compression, no quantization, no transform, ... only provides a bidirectional (full-duplex) transmission of raw (playable) chunks. \n",
            "Traceback (most recent call last):\n",
            "  File \u001b[35m\"c:\\Users\\anton\\Documents\\Proyectos\\InterCom-master\\TEMU\\src\\buffer.py\"\u001b[0m, line \u001b[35m218\u001b[0m, in \u001b[35m<module>\u001b[0m\n",
            "    intercom = Buffering()\n",
            "  File \u001b[35m\"c:\\Users\\anton\\Documents\\Proyectos\\InterCom-master\\TEMU\\src\\buffer.py\"\u001b[0m, line \u001b[35m27\u001b[0m, in \u001b[35m__init__\u001b[0m\n",
            "    \u001b[31msuper().__init__\u001b[0m\u001b[1;31m()\u001b[0m\n",
            "    \u001b[31m~~~~~~~~~~~~~~~~\u001b[0m\u001b[1;31m^^\u001b[0m\n",
            "  File \u001b[35m\"c:\\Users\\anton\\Documents\\Proyectos\\InterCom-master\\TEMU\\src\\minimal.py\"\u001b[0m, line \u001b[35m59\u001b[0m, in \u001b[35m__init__\u001b[0m\n",
            "    \u001b[31mself.sock.bind\u001b[0m\u001b[1;31m(self.listening_endpoint)\u001b[0m\n",
            "    \u001b[31m~~~~~~~~~~~~~~\u001b[0m\u001b[1;31m^^^^^^^^^^^^^^^^^^^^^^^^^\u001b[0m\n",
            "\u001b[1;35mOSError\u001b[0m: \u001b[35m[WinError 10048] Only one usage of each socket address (protocol/network address/port) is normally permitted\u001b[0m\n"
          ]
        }
      ],
      "source": [
        "!python buffer.py -a $ip"
      ]
    },
    {
      "cell_type": "markdown",
      "metadata": {
        "id": "hytHZ_GLwur2"
      },
      "source": [
        "Explicación red de Fundamentos:\n",
        "\n",
        "Este proyecto demuestra cómo un buffer circular con reproducción retardada puede mitigar efectivamente el jitter en comunicaciones de audio en tiempo real, permitiendo mantener la calidad del audio a costa de introducir una latencia controlada y configurable según las características de la red"
      ]
    },
    {
      "cell_type": "markdown",
      "metadata": {
        "id": "Mj3N8oZskq7i"
      },
      "source": [
        "Disminuir el tiemppo de buffer hasta que empiecen a haber cortes:"
      ]
    },
    {
      "cell_type": "code",
      "execution_count": null,
      "metadata": {
        "id": "v-Kwxevakuwf",
        "vscode": {
          "languageId": "powershell"
        }
      },
      "outputs": [],
      "source": [
        "python buffer.py -a $ip -b 100"
      ]
    },
    {
      "cell_type": "code",
      "execution_count": null,
      "metadata": {
        "id": "14mNBcM-k_4C",
        "vscode": {
          "languageId": "powershell"
        }
      },
      "outputs": [],
      "source": [
        "python buffer.py -a $ip -b 50"
      ]
    },
    {
      "cell_type": "code",
      "execution_count": null,
      "metadata": {
        "id": "szs-7j5OymeP",
        "vscode": {
          "languageId": "powershell"
        }
      },
      "outputs": [],
      "source": [
        "python buffer.py -a $ip -b 25"
      ]
    },
    {
      "cell_type": "markdown",
      "metadata": {
        "id": "AQIy54iAyqv3"
      },
      "source": [
        "Se detectan cortes en el audio.\n",
        "\n",
        "\n"
      ]
    },
    {
      "cell_type": "code",
      "execution_count": null,
      "metadata": {
        "id": "aaObjoStyqKg",
        "vscode": {
          "languageId": "powershell"
        }
      },
      "outputs": [],
      "source": [
        "python buffer.py -a $ip -b 40"
      ]
    },
    {
      "cell_type": "markdown",
      "metadata": {
        "id": "J-M0oNoCyz2m"
      },
      "source": [
        "Se siguen detectando cortes en el audio."
      ]
    },
    {
      "cell_type": "code",
      "execution_count": null,
      "metadata": {
        "id": "sMGWm9G9ywEO",
        "vscode": {
          "languageId": "powershell"
        }
      },
      "outputs": [],
      "source": [
        "python buffer.py -a $ip -b 50"
      ]
    },
    {
      "cell_type": "markdown",
      "metadata": {
        "id": "P1c0ioRyzBpT"
      },
      "source": [
        "Ya no hay cortes en el audio, el tiempo de búfer idóneo para minimizar la latencia y maximizar la calidad del audio camuflando el jitter es de 50."
      ]
    }
  ],
  "metadata": {
    "colab": {
      "provenance": []
    },
    "kernelspec": {
      "display_name": "intercom",
      "language": "python",
      "name": "python3"
    },
    "language_info": {
      "codemirror_mode": {
        "name": "ipython",
        "version": 3
      },
      "file_extension": ".py",
      "mimetype": "text/x-python",
      "name": "python",
      "nbconvert_exporter": "python",
      "pygments_lexer": "ipython3",
      "version": "3.13.7"
    }
  },
  "nbformat": 4,
  "nbformat_minor": 0
}
