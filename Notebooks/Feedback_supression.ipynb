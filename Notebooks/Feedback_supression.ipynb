{
 "cells": [
  {
   "cell_type": "code",
   "execution_count": null,
   "id": "5d52ade1",
   "metadata": {},
   "outputs": [],
   "source": [
    "\n",
    "minimal.parser.add_argument(\"--delay_chunks\", type=int, default=7, \n",
    "                           help=\"Delay in chunks for echo estimation\")\n",
    "minimal.parser.add_argument(\"--attenuation\", type=float, default=0.5, \n",
    "                           help=\"Attenuation factor (0.0-0.99)\")"
   ]
  },
  {
   "cell_type": "markdown",
   "id": "443aa5c0",
   "metadata": {},
   "source": [
    "Aquí defino las variables para cuando ejecute el comando por pantalla sepa que valores son cada uno con la definción de --delay_chunks y --attenuation. Por defecto le hemos puesto un valor medio de 0.5 de atenuación y 7 de chunks de retraso."
   ]
  },
  {
   "cell_type": "code",
   "execution_count": null,
   "id": "22395f81",
   "metadata": {},
   "outputs": [],
   "source": [
    "class Feedback_Supression(buffer.Buffering):\n",
    "    \n",
    "    def __init__(self):\n",
    "        super().__init__()\n",
    "        logging.info(__doc__)\n",
    "        self.played_chunk_history = []  # Lo que REPRODUCES (sale por altavoces)\n",
    "\n",
    "        self.delay_in_chunks = minimal.args.delay_chunks\n",
    "        self.attenuation = minimal.args.attenuation\n",
    "        self.attenuation = min(max(self.attenuation, 0.0), 0.99)\n",
    " \n",
    "        \n",
    "        self.max_history = max(self.delay_in_chunks + 5, 30)\n",
    "        \n",
    "       "
   ]
  },
  {
   "cell_type": "markdown",
   "id": "826ab3fb",
   "metadata": {},
   "source": [
    "La clase feeback es la que va a reproducir los sonidos que capta el PC y al mismo tiempo la que va a eliminar el feedback de audio.  \n",
    "Definimos las variables que vamos a usar:  \n",
    "Delay de chuncks para eliminar los chunks que consideremos del audio\n",
    "Atenuación para bajarle la intensidad a los chunks de feedback, asegurándose de que el valor está dentro de lo permitido 0.0-0.99\n",
    "Played_chunck_history es eñ historial de chunks que se mantiene en memoria. Sirve para poder eliminar el eco, de ahí extrae los chunks los cuales atenua\n",
    "Max_history pone como tope 30 chunks para asegurar un retardo max que eliminar\n"
   ]
  },
  {
   "cell_type": "code",
   "execution_count": null,
   "id": "d308a483",
   "metadata": {},
   "outputs": [],
   "source": [
    " logging.info(f\"AEC: delay={self.delay_in_chunks} chunks \"\n",
    "                    f\"({self.delay_in_chunks * self.chunk_time * 1000:.1f} ms), \"\n",
    "                    f\"attenuation={self.attenuation}\")\n",
    "    \n",
    "    def _record_IO_and_play(self, ADC, DAC, frames, time, status):\n",
    "        self.chunk_number = (self.chunk_number + 1) % self.CHUNK_NUMBERS\n"
   ]
  },
  {
   "cell_type": "markdown",
   "id": "42129eda",
   "metadata": {},
   "source": [
    "loggin.info muestra por pantalla los valores de las variables delay y atenuación usados. Convierte la duración de un chunk de audio de segundos a milisegundos, para que sea más fácil de interpretar.\n",
    "chunk_number es el índice que permite que el buffer sea cíclico y aumenta en 1 cada vez que llega un chunk nuevo sin dejar que supere el límite de los chunks de memoria 30."
   ]
  },
  {
   "cell_type": "code",
   "execution_count": null,
   "id": "1325a2f7",
   "metadata": {},
   "outputs": [],
   "source": [
    "\n",
    "       # Reproducir lo que llega desde red (o silencio)\n",
    "        chunk = self.unbuffer_next_chunk()\n",
    "        if chunk is None:\n",
    "            chunk = self.zero_chunk\n",
    "        self.play_chunk(DAC, chunk)\n",
    "\n",
    "    "
   ]
  },
  {
   "cell_type": "code",
   "execution_count": null,
   "id": "52c2af5b",
   "metadata": {},
   "outputs": [],
   "source": [
    "Reproduce que el chunk que llega desde la red. Si no llega nada o el chunk está vacío reproduce silencio, si no el chunk que llega.  "
   ]
  },
  {
   "cell_type": "code",
   "execution_count": null,
   "id": "44af8883",
   "metadata": {},
   "outputs": [],
   "source": [
    "\n",
    "     \n",
    "\n",
    "        # Guardar historial de salida\n",
    "        self.played_chunk_history.append(chunk.copy())\n",
    "        if len(self.played_chunk_history) > self.max_history:\n",
    "            self.played_chunk_history.pop(0)\n",
    "\n",
    "      "
   ]
  },
  {
   "cell_type": "code",
   "execution_count": null,
   "id": "417f962a",
   "metadata": {},
   "outputs": [],
   "source": [
    "Guarda una copia del chunk reproducido en el historial de chunks reproducidos. Si el historial supera el máximo permitido, elimina el chunk más antiguo."
   ]
  },
  {
   "cell_type": "code",
   "execution_count": null,
   "id": "06efa1d3",
   "metadata": {},
   "outputs": [],
   "source": [
    "  # Estimar el eco según delay\n",
    "        if len(self.played_chunk_history) >= self.delay_in_chunks:\n",
    "            delayed_chunk = self.played_chunk_history[-self.delay_in_chunks]\n",
    "        else:\n",
    "            delayed_chunk = self.zero_chunk\n",
    "\n",
    "        echo_estimation = self.attenuation * delayed_chunk\n",
    "\n",
    "    "
   ]
  },
  {
   "cell_type": "code",
   "execution_count": null,
   "id": "fd5977f1",
   "metadata": {},
   "outputs": [],
   "source": [
    "Desde el historial escoge el chunk retrasado según el delay definido y lo atenúa según el valor definido."
   ]
  },
  {
   "cell_type": "code",
   "execution_count": null,
   "id": "c43b2446",
   "metadata": {},
   "outputs": [],
   "source": [
    "    # Cancelar el eco en la señal del micrófono\n",
    "        filtered_ADC = ADC.astype(np.float32) - echo_estimation.astype(np.float32)\n",
    "        filtered_ADC = np.clip(filtered_ADC, -32768, 32767).astype(np.int16)\n",
    "\n",
    "        # Enviar la señal limpia\n",
    "        packed_chunk = self.pack(self.chunk_number, filtered_ADC)\n",
    "        self.send(packed_chunk)\n",
    "\n",
    "        # 🔊 Reproducir también el micrófono procesado localmente (para verificar que se escucha)\n",
    "        self.play_chunk(DAC, filtered_ADC)"
   ]
  },
  {
   "cell_type": "markdown",
   "id": "20abc4a5",
   "metadata": {},
   "source": [
    "Este es el bloque qye cancela el feedback:  \n",
    "Para evitar desbordamientos en la resta normalizamos el valor de eco para que entre dentro de los 16bits con signo.  \n",
    "astype convierte la señal a 16bits y clip garantiza que no se pase de los límetes de valores.  \n",
    "Se empaqueta el número de chunk con el nuevo sonido limpio y se manda.  \n",
    "Se reproduce el sonido en el altavoz.\n"
   ]
  },
  {
   "cell_type": "code",
   "execution_count": null,
   "id": "b0273ebc",
   "metadata": {},
   "outputs": [],
   "source": [
    "class Feedback_Supression__verbose(Feedback_Supression, buffer.Buffering__verbose):\n",
    "    \n",
    "    def __init__(self):\n",
    "        super().__init__()\n",
    "    \n",
    "    def _record_IO_and_play(self, ADC, DAC, frames, time, status):\n",
    "        if minimal.args.show_samples:\n",
    "            self.show_recorded_chunk(ADC)\n",
    "        \n",
    "        super()._record_IO_and_play(ADC, DAC, frames, time, status)\n",
    "        \n",
    "        if minimal.args.show_samples:\n",
    "            self.show_played_chunk(DAC)\n",
    "        \n",
    "        self.recorded_chunk = DAC\n",
    "        self.played_chunk = ADC"
   ]
  },
  {
   "cell_type": "code",
   "execution_count": null,
   "id": "372f1672",
   "metadata": {},
   "outputs": [],
   "source": [
    "Este método muestra por pantalla los chunks grabados y reproducidos en el audio, mostrando los valores de las muestras.\n",
    "Al mismo tiempo llama al método de la clase padre para que realice el procesamiento de audio.\n",
    "Y guarda los chunks grabados y reproducidos en variables de la clase para poder acceder a ellos desde fuera."
   ]
  },
  {
   "cell_type": "markdown",
   "id": "577900d6",
   "metadata": {},
   "source": [
    "CAMBIOS EN BUFFER.PY"
   ]
  },
  {
   "cell_type": "code",
   "execution_count": null,
   "id": "eee5d2ff",
   "metadata": {},
   "outputs": [],
   "source": [
    "def unpack(self, packed_chunk):\n",
    "        '''Splits the packed chunk into a chunk number and a chunk.'''\n",
    "        (chunk_number,) = struct.unpack(\"!H\", packed_chunk[:2])\n",
    "        chunk = packed_chunk[2:]\n",
    "        # Notice that struct.calcsize('H') = 2\n",
    "        chunk = np.frombuffer(chunk, dtype=np.int16)\n",
    "        chunk = chunk.reshape(minimal.args.frames_per_chunk, minimal.args.number_of_channels)\n",
    "        return chunk_number, chunk\n"
   ]
  },
  {
   "cell_type": "markdown",
   "id": "3028178e",
   "metadata": {},
   "source": [
    "Hemos descomentado de la clase desempaquetar chunk = chunk.reshape(minimal.args.frames_per_chunk, minimal.args.number_of_channels), esto hace que podamos reproducir los chunks con la libreria sounddevice en el formato que necesita y no se escuche con distorsión."
   ]
  },
  {
   "cell_type": "code",
   "execution_count": null,
   "id": "4f4f6f9e",
   "metadata": {},
   "outputs": [],
   "source": [
    "   if minimal.args.show_stats or minimal.args.show_samples or minimal.args.show_spectrum:\n",
    "        intercom = Buffering__verbose(minimal.args)\n",
    "        intercom = Buffering__verbose()\n",
    "    else:\n",
    "        intercom = Buffering()"
   ]
  },
  {
   "cell_type": "markdown",
   "id": "371cd876",
   "metadata": {},
   "source": [
    "Hemos descomentado la línea de  intercom = Buffering__verbose(minimal.args) para poder pasarle a la clase minimal los argumentos de delay y attenuation"
   ]
  }
 ],
 "metadata": {
  "kernelspec": {
   "display_name": ".venv (3.12.3)",
   "language": "python",
   "name": "python3"
  },
  "language_info": {
   "name": "python",
   "version": "3.12.3"
  }
 },
 "nbformat": 4,
 "nbformat_minor": 5
}
